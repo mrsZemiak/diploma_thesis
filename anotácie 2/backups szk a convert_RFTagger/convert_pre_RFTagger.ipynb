{
 "cells": [
  {
   "cell_type": "code",
   "execution_count": 1,
   "id": "2d126763",
   "metadata": {},
   "outputs": [],
   "source": [
    "import pandas as pd\n",
    "import numpy as np"
   ]
  },
  {
   "cell_type": "code",
   "execution_count": 11,
   "id": "5771128f",
   "metadata": {
    "scrolled": false
   },
   "outputs": [],
   "source": [
    "df = pd.read_excel('/Users/mrszemiak/Desktop/anotácie/lalala/' + r'snkrftagger.xlsx', header= None)"
   ]
  },
  {
   "cell_type": "code",
   "execution_count": 12,
   "id": "694497c3",
   "metadata": {},
   "outputs": [],
   "source": [
    "df2 = df"
   ]
  },
  {
   "cell_type": "code",
   "execution_count": 15,
   "id": "3941212f",
   "metadata": {},
   "outputs": [],
   "source": [
    "import unidecode"
   ]
  },
  {
   "cell_type": "code",
   "execution_count": 13,
   "id": "f8745c62",
   "metadata": {},
   "outputs": [
    {
     "data": {
      "text/html": [
       "<div>\n",
       "<style scoped>\n",
       "    .dataframe tbody tr th:only-of-type {\n",
       "        vertical-align: middle;\n",
       "    }\n",
       "\n",
       "    .dataframe tbody tr th {\n",
       "        vertical-align: top;\n",
       "    }\n",
       "\n",
       "    .dataframe thead th {\n",
       "        text-align: right;\n",
       "    }\n",
       "</style>\n",
       "<table border=\"1\" class=\"dataframe\">\n",
       "  <thead>\n",
       "    <tr style=\"text-align: right;\">\n",
       "      <th></th>\n",
       "      <th>0</th>\n",
       "    </tr>\n",
       "  </thead>\n",
       "  <tbody>\n",
       "    <tr>\n",
       "      <th>0</th>\n",
       "      <td>Kde</td>\n",
       "    </tr>\n",
       "    <tr>\n",
       "      <th>1</th>\n",
       "      <td>tá</td>\n",
       "    </tr>\n",
       "    <tr>\n",
       "      <th>2</th>\n",
       "      <td>ľudská</td>\n",
       "    </tr>\n",
       "    <tr>\n",
       "      <th>3</th>\n",
       "      <td>duša</td>\n",
       "    </tr>\n",
       "    <tr>\n",
       "      <th>4</th>\n",
       "      <td>drieme</td>\n",
       "    </tr>\n",
       "    <tr>\n",
       "      <th>...</th>\n",
       "      <td>...</td>\n",
       "    </tr>\n",
       "    <tr>\n",
       "      <th>106021</th>\n",
       "      <td>na</td>\n",
       "    </tr>\n",
       "    <tr>\n",
       "      <th>106022</th>\n",
       "      <td>Zemi</td>\n",
       "    </tr>\n",
       "    <tr>\n",
       "      <th>106023</th>\n",
       "      <td>veľmi</td>\n",
       "    </tr>\n",
       "    <tr>\n",
       "      <th>106024</th>\n",
       "      <td>premenlivé</td>\n",
       "    </tr>\n",
       "    <tr>\n",
       "      <th>106025</th>\n",
       "      <td>.</td>\n",
       "    </tr>\n",
       "  </tbody>\n",
       "</table>\n",
       "<p>106026 rows × 1 columns</p>\n",
       "</div>"
      ],
      "text/plain": [
       "                 0\n",
       "0              Kde\n",
       "1               tá\n",
       "2           ľudská\n",
       "3             duša\n",
       "4           drieme\n",
       "...            ...\n",
       "106021          na\n",
       "106022        Zemi\n",
       "106023       veľmi\n",
       "106024  premenlivé\n",
       "106025           .\n",
       "\n",
       "[106026 rows x 1 columns]"
      ]
     },
     "execution_count": 13,
     "metadata": {},
     "output_type": "execute_result"
    }
   ],
   "source": [
    "df2"
   ]
  },
  {
   "cell_type": "code",
   "execution_count": 16,
   "id": "672d2b46",
   "metadata": {},
   "outputs": [],
   "source": [
    "ddf = df2[0].str.normalize('NFKD').str.encode('ascii', errors='ignore').str.decode('utf-8')"
   ]
  },
  {
   "cell_type": "code",
   "execution_count": 17,
   "id": "5ffdeec4",
   "metadata": {},
   "outputs": [
    {
     "data": {
      "text/plain": [
       "0                Kde\n",
       "1                 ta\n",
       "2             ludska\n",
       "3               dusa\n",
       "4             drieme\n",
       "             ...    \n",
       "106021            na\n",
       "106022          Zemi\n",
       "106023         velmi\n",
       "106024    premenlive\n",
       "106025             .\n",
       "Name: 0, Length: 106026, dtype: object"
      ]
     },
     "execution_count": 17,
     "metadata": {},
     "output_type": "execute_result"
    }
   ],
   "source": [
    "ddf"
   ]
  },
  {
   "cell_type": "code",
   "execution_count": 18,
   "id": "53f2ecc1",
   "metadata": {},
   "outputs": [],
   "source": [
    "ddf.to_csv(r'rntaggersnk.txt', header=None, index=None, sep=' ')"
   ]
  },
  {
   "cell_type": "code",
   "execution_count": null,
   "id": "6e9e5631",
   "metadata": {},
   "outputs": [],
   "source": []
  }
 ],
 "metadata": {
  "kernelspec": {
   "display_name": "Python 3 (ipykernel)",
   "language": "python",
   "name": "python3"
  },
  "language_info": {
   "codemirror_mode": {
    "name": "ipython",
    "version": 3
   },
   "file_extension": ".py",
   "mimetype": "text/x-python",
   "name": "python",
   "nbconvert_exporter": "python",
   "pygments_lexer": "ipython3",
   "version": "3.9.7"
  }
 },
 "nbformat": 4,
 "nbformat_minor": 5
}
